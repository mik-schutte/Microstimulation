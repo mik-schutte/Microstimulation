{
 "cells": [
  {
   "cell_type": "markdown",
   "id": "b4bbc59f",
   "metadata": {},
   "source": [
    "# Analyzing microstimulation data  <br />\n",
    "\n",
    "## Introduction\n",
    "This notebook file can be used as a guideline for analyzing data concerning the MTL-dependent microstimulation detection task as described in Doron et al. (2020). It is meant to show students or newly interested the step-by-step process from raw data to beautiful graphs. Within this, script the Mouse_Data dataclass and functions from the helpers.py will be explained and used for data-analysis. The analysis will be performed on the data files that are contained within the sibling-folder: 'data'.  "
   ]
  },
  {
   "cell_type": "code",
   "execution_count": 4,
   "id": "eb9564c4",
   "metadata": {},
   "outputs": [
    {
     "ename": "ModuleNotFoundError",
     "evalue": "No module named 'code.Mouse_Data'; 'code' is not a package",
     "output_type": "error",
     "traceback": [
      "\u001b[1;31m---------------------------------------------------------------------------\u001b[0m",
      "\u001b[1;31mModuleNotFoundError\u001b[0m                       Traceback (most recent call last)",
      "Input \u001b[1;32mIn [4]\u001b[0m, in \u001b[0;36m<cell line: 2>\u001b[1;34m()\u001b[0m\n\u001b[0;32m      1\u001b[0m \u001b[38;5;66;03m# First import the Mouse_Data dataclass, the helper functions and additional packages\u001b[39;00m\n\u001b[1;32m----> 2\u001b[0m \u001b[38;5;28;01mfrom\u001b[39;00m \u001b[38;5;21;01mcode\u001b[39;00m\u001b[38;5;21;01m.\u001b[39;00m\u001b[38;5;21;01mMouse_Data\u001b[39;00m \u001b[38;5;28;01mimport\u001b[39;00m Mouse_Data\n",
      "\u001b[1;31mModuleNotFoundError\u001b[0m: No module named 'code.Mouse_Data'; 'code' is not a package"
     ]
    }
   ],
   "source": [
    "# First import the Mouse_Data dataclass, the helper functions and additional packages\n",
    "from code.Mouse_Data import Mouse_Data\n",
    "# from code.helpers import *"
   ]
  },
  {
   "cell_type": "code",
   "execution_count": null,
   "id": "d03495aa",
   "metadata": {},
   "outputs": [],
   "source": [
    "import numpy as np\n",
    "import pandas as pd\n",
    "from scipy import stats\n",
    "from matplotlib.backends.backend_pdf import PdfPages\n",
    "import matplotlib\n",
    "import matplotlib.pyplot as plt\n",
    "from mpl_toolkits.axes_grid1 import make_axes_locatable\n",
    "import os, re, math \n",
    "from copy import deepcopy\n",
    "from queue import Queue\n",
    "matplotlib.rcParams.update({'font.size':40, 'font.family':'Times New Roman', 'axes.facecolor':'white'})  "
   ]
  }
 ],
 "metadata": {
  "kernelspec": {
   "display_name": "Python 3 (ipykernel)",
   "language": "python",
   "name": "python3"
  },
  "language_info": {
   "codemirror_mode": {
    "name": "ipython",
    "version": 3
   },
   "file_extension": ".py",
   "mimetype": "text/x-python",
   "name": "python",
   "nbconvert_exporter": "python",
   "pygments_lexer": "ipython3",
   "version": "3.10.4"
  }
 },
 "nbformat": 4,
 "nbformat_minor": 5
}
