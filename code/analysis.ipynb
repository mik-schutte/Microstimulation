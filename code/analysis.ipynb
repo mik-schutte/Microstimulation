{
 "cells": [
  {
   "cell_type": "markdown",
   "id": "e1d2ed7c",
   "metadata": {},
   "source": [
    "# Analyzing microstimulation data  <br>\n",
    "\n",
    "## Introduction\n",
    "This notebook file can be used as a guideline for analyzing data concerning the MTL-dependent microstimulation detection task as described in Doron et al. (2020). It is meant to show students or newly interested the step-by-step process from raw data to beautiful graphs. Within this, script the Mouse_Data dataclass and functions from the helpers.py will be explained and used for data-analysis. The analysis will be performed on the data files that are contained within the sibling-folder: 'data'. \n",
    "<br><br>\n",
    "### Importing functions\n",
    "We will start by importing the necessary functions. In order to prevent import or modulenotfound errors it is adviced to mimic the file structure from GitHub. This means that this: 'analysis.ipynb' file should be in the same folder as 'Mouse_Data.py'& 'helpers.py'."
   ]
  },
  {
   "cell_type": "code",
   "execution_count": 3,
   "id": "81cfe10a",
   "metadata": {},
   "outputs": [],
   "source": [
    "# First we will have to import the dataclass we're using to hold our data, as well as, the helper functions that we'll need.\n",
    "from Mouse_Data import Mouse_Data\n",
    "from helpers import *\n",
    "\n",
    "# We will also import some additional functions from commonly used packages for convenience and plotting.\n",
    "import os\n",
    "import matplotlib.pyplot as plt"
   ]
  },
  {
   "cell_type": "markdown",
   "id": "58027ad4",
   "metadata": {},
   "source": [
    "### Importing your data\n",
    "Next we'll import the data we will be analyzing. The example data can be found in the GitHub repository witin the 'data' folder. It is advisable to first do a test run with the example data and make sure you understand the process, before proceding with your own data.\n",
    "The code requires the path to the data folder which in the case of the example data should look something like this: <code>C:Users/username/coding_projects/microstimulation/data</code><br><br>\n",
    "The content of the datafolder is structured in the following way:<br>\n",
    "- ID0\n",
    "    - session0\n",
    "    - session1\n",
    "- ID1\n",
    "    - session0<br>\n",
    "    \n",
    "    \n",
    "Within this datafolder there are subfolders *ID0, ID1* that refer individual animals and their sessions *session0, session1*. Within the folder of each session there should be .txt files that contain the extracted SPIKE2 data. After you have provided the path and checked if it contains the correct data we will load in the data using the Mouse_Data dataclass. \n"
   ]
  },
  {
   "cell_type": "code",
   "execution_count": 4,
   "id": "bc47a0c3",
   "metadata": {},
   "outputs": [
    {
     "name": "stdout",
     "output_type": "stream",
     "text": [
      "The path you provided contains the following files: \n",
      "['ID0', 'ID1', 'ID2', 'ID3']\n"
     ]
    }
   ],
   "source": [
    "# Select the path to your data files, replace '\\' with '/' if you copied your path. \n",
    "# Also make sure it ends with '/' so that it's recognized as a folder.\n",
    "path = 'C:/Users/miksc/OneDrive/coding_projects/Microstimulation/data/'\n",
    "datafiles = os.listdir(path)\n",
    "print(f'The path you provided contains the following files: \\n{datafiles}')"
   ]
  },
  {
   "cell_type": "code",
   "execution_count": 6,
   "id": "8e2f6c20",
   "metadata": {},
   "outputs": [
    {
     "ename": "FileNotFoundError",
     "evalue": "[Errno 2] No such file or directory: 'C:/Users/miksc/OneDrive/coding_projects/Microstimulation/data/ID0raw.mat'",
     "output_type": "error",
     "traceback": [
      "\u001b[1;31m---------------------------------------------------------------------------\u001b[0m",
      "\u001b[1;31mFileNotFoundError\u001b[0m                         Traceback (most recent call last)",
      "File \u001b[1;32mc:\\Users\\miksc\\anaconda3\\envs\\microstim\\lib\\site-packages\\scipy\\io\\matlab\\mio.py:39\u001b[0m, in \u001b[0;36m_open_file\u001b[1;34m(file_like, appendmat, mode)\u001b[0m\n\u001b[0;32m     38\u001b[0m \u001b[38;5;28;01mtry\u001b[39;00m:\n\u001b[1;32m---> 39\u001b[0m     \u001b[38;5;28;01mreturn\u001b[39;00m \u001b[38;5;28;43mopen\u001b[39;49m\u001b[43m(\u001b[49m\u001b[43mfile_like\u001b[49m\u001b[43m,\u001b[49m\u001b[43m \u001b[49m\u001b[43mmode\u001b[49m\u001b[43m)\u001b[49m, \u001b[38;5;28;01mTrue\u001b[39;00m\n\u001b[0;32m     40\u001b[0m \u001b[38;5;28;01mexcept\u001b[39;00m \u001b[38;5;167;01mIOError\u001b[39;00m \u001b[38;5;28;01mas\u001b[39;00m e:\n\u001b[0;32m     41\u001b[0m     \u001b[38;5;66;03m# Probably \"not found\"\u001b[39;00m\n",
      "\u001b[1;31mFileNotFoundError\u001b[0m: [Errno 2] No such file or directory: 'C:/Users/miksc/OneDrive/coding_projects/Microstimulation/data/ID0raw'",
      "\nDuring handling of the above exception, another exception occurred:\n",
      "\u001b[1;31mFileNotFoundError\u001b[0m                         Traceback (most recent call last)",
      "Input \u001b[1;32mIn [6]\u001b[0m, in \u001b[0;36m<cell line: 4>\u001b[1;34m()\u001b[0m\n\u001b[0;32m      4\u001b[0m \u001b[38;5;28;01mfor\u001b[39;00m file \u001b[38;5;129;01min\u001b[39;00m datafiles:\n\u001b[0;32m      5\u001b[0m     path_to_data \u001b[38;5;241m=\u001b[39m path\u001b[38;5;241m+\u001b[39mfile\n\u001b[1;32m----> 6\u001b[0m     mouse \u001b[38;5;241m=\u001b[39m \u001b[43mMouse_Data\u001b[49m\u001b[43m(\u001b[49m\u001b[43mpath_to_data\u001b[49m\u001b[43m)\u001b[49m\n\u001b[0;32m      7\u001b[0m     mouse_list\u001b[38;5;241m.\u001b[39mappend(mouse)\n\u001b[0;32m      8\u001b[0m \u001b[38;5;28mprint\u001b[39m(mouse_list)\n",
      "File \u001b[1;32mc:\\Users\\miksc\\OneDrive\\coding_projects\\Microstimulation\\code\\Mouse_Data.py:168\u001b[0m, in \u001b[0;36mMouse_Data.__init__\u001b[1;34m(self, path_to_data)\u001b[0m\n\u001b[0;32m    166\u001b[0m \u001b[38;5;28mself\u001b[39m\u001b[38;5;241m.\u001b[39mid \u001b[38;5;241m=\u001b[39m \u001b[38;5;28mself\u001b[39m\u001b[38;5;241m.\u001b[39mfiles[\u001b[38;5;241m0\u001b[39m]\u001b[38;5;241m.\u001b[39msplit(\u001b[38;5;124m'\u001b[39m\u001b[38;5;124m/\u001b[39m\u001b[38;5;124m'\u001b[39m)[\u001b[38;5;241m-\u001b[39m\u001b[38;5;241m1\u001b[39m]\u001b[38;5;241m.\u001b[39msplit(\u001b[38;5;124m'\u001b[39m\u001b[38;5;124m_\u001b[39m\u001b[38;5;124m'\u001b[39m)[\u001b[38;5;241m0\u001b[39m]\n\u001b[0;32m    167\u001b[0m \u001b[38;5;28mself\u001b[39m\u001b[38;5;241m.\u001b[39mconcat_needed \u001b[38;5;241m=\u001b[39m \u001b[38;5;28;01mFalse\u001b[39;00m\n\u001b[1;32m--> 168\u001b[0m \u001b[38;5;28;43mself\u001b[39;49m\u001b[38;5;241;43m.\u001b[39;49m\u001b[43mget_behaviour\u001b[49m\u001b[43m(\u001b[49m\u001b[43m)\u001b[49m\n\u001b[0;32m    169\u001b[0m \u001b[38;5;28mself\u001b[39m\u001b[38;5;241m.\u001b[39msessions \u001b[38;5;241m=\u001b[39m [\u001b[38;5;28mstr\u001b[39m(key) \u001b[38;5;28;01mfor\u001b[39;00m key \u001b[38;5;129;01min\u001b[39;00m \u001b[38;5;28mself\u001b[39m\u001b[38;5;241m.\u001b[39msession_data\u001b[38;5;241m.\u001b[39mkeys()]\n\u001b[0;32m    171\u001b[0m \u001b[38;5;28;01mif\u001b[39;00m \u001b[38;5;28mself\u001b[39m\u001b[38;5;241m.\u001b[39mconcat_needed:\n",
      "File \u001b[1;32mc:\\Users\\miksc\\OneDrive\\coding_projects\\Microstimulation\\code\\Mouse_Data.py:182\u001b[0m, in \u001b[0;36mMouse_Data.get_behaviour\u001b[1;34m(self)\u001b[0m\n\u001b[0;32m    180\u001b[0m \u001b[38;5;28mself\u001b[39m\u001b[38;5;241m.\u001b[39msession_data \u001b[38;5;241m=\u001b[39m {}\n\u001b[0;32m    181\u001b[0m \u001b[38;5;28;01mfor\u001b[39;00m file \u001b[38;5;129;01min\u001b[39;00m \u001b[38;5;28mself\u001b[39m\u001b[38;5;241m.\u001b[39mfiles:\n\u001b[1;32m--> 182\u001b[0m     rawData \u001b[38;5;241m=\u001b[39m \u001b[43mload_mat\u001b[49m\u001b[43m(\u001b[49m\u001b[38;5;28;43mself\u001b[39;49m\u001b[38;5;241;43m.\u001b[39;49m\u001b[43mpath\u001b[49m\u001b[43m \u001b[49m\u001b[38;5;241;43m+\u001b[39;49m\u001b[43m \u001b[49m\u001b[43mfile\u001b[49m\u001b[43m)\u001b[49m\n\u001b[0;32m    183\u001b[0m     session \u001b[38;5;241m=\u001b[39m rawData[\u001b[38;5;124m'\u001b[39m\u001b[38;5;124m__header__\u001b[39m\u001b[38;5;124m'\u001b[39m]\u001b[38;5;241m.\u001b[39mdecode()\n\u001b[0;32m    184\u001b[0m     session \u001b[38;5;241m=\u001b[39m re\u001b[38;5;241m.\u001b[39msplit(\u001b[38;5;124m'\u001b[39m\u001b[38;5;124mMon |Tue |Wed |Thu |Fri |Sat |Sun \u001b[39m\u001b[38;5;124m'\u001b[39m, session)[\u001b[38;5;241m-\u001b[39m\u001b[38;5;241m1\u001b[39m] \n",
      "File \u001b[1;32mc:\\Users\\miksc\\OneDrive\\coding_projects\\Microstimulation\\code\\Mouse_Data.py:65\u001b[0m, in \u001b[0;36mload_mat\u001b[1;34m(filename)\u001b[0m\n\u001b[0;32m     62\u001b[0m     \u001b[38;5;28;01melse\u001b[39;00m:\n\u001b[0;32m     63\u001b[0m         \u001b[38;5;28;01mreturn\u001b[39;00m ndarray\n\u001b[1;32m---> 65\u001b[0m data \u001b[38;5;241m=\u001b[39m \u001b[43mscipy\u001b[49m\u001b[38;5;241;43m.\u001b[39;49m\u001b[43mio\u001b[49m\u001b[38;5;241;43m.\u001b[39;49m\u001b[43mloadmat\u001b[49m\u001b[43m(\u001b[49m\u001b[43mfilename\u001b[49m\u001b[43m,\u001b[49m\u001b[43m \u001b[49m\u001b[43mstruct_as_record\u001b[49m\u001b[38;5;241;43m=\u001b[39;49m\u001b[38;5;28;43;01mFalse\u001b[39;49;00m\u001b[43m,\u001b[49m\u001b[43m \u001b[49m\u001b[43msqueeze_me\u001b[49m\u001b[38;5;241;43m=\u001b[39;49m\u001b[38;5;28;43;01mTrue\u001b[39;49;00m\u001b[43m)\u001b[49m\n\u001b[0;32m     66\u001b[0m \u001b[38;5;28;01mreturn\u001b[39;00m _check_vars(data)\n",
      "File \u001b[1;32mc:\\Users\\miksc\\anaconda3\\envs\\microstim\\lib\\site-packages\\scipy\\io\\matlab\\mio.py:224\u001b[0m, in \u001b[0;36mloadmat\u001b[1;34m(file_name, mdict, appendmat, **kwargs)\u001b[0m\n\u001b[0;32m     87\u001b[0m \u001b[38;5;124;03m\"\"\"\u001b[39;00m\n\u001b[0;32m     88\u001b[0m \u001b[38;5;124;03mLoad MATLAB file.\u001b[39;00m\n\u001b[0;32m     89\u001b[0m \n\u001b[1;32m   (...)\u001b[0m\n\u001b[0;32m    221\u001b[0m \u001b[38;5;124;03m    3.14159265+3.14159265j])\u001b[39;00m\n\u001b[0;32m    222\u001b[0m \u001b[38;5;124;03m\"\"\"\u001b[39;00m\n\u001b[0;32m    223\u001b[0m variable_names \u001b[38;5;241m=\u001b[39m kwargs\u001b[38;5;241m.\u001b[39mpop(\u001b[38;5;124m'\u001b[39m\u001b[38;5;124mvariable_names\u001b[39m\u001b[38;5;124m'\u001b[39m, \u001b[38;5;28;01mNone\u001b[39;00m)\n\u001b[1;32m--> 224\u001b[0m \u001b[38;5;28;01mwith\u001b[39;00m _open_file_context(file_name, appendmat) \u001b[38;5;28;01mas\u001b[39;00m f:\n\u001b[0;32m    225\u001b[0m     MR, _ \u001b[38;5;241m=\u001b[39m mat_reader_factory(f, \u001b[38;5;241m*\u001b[39m\u001b[38;5;241m*\u001b[39mkwargs)\n\u001b[0;32m    226\u001b[0m     matfile_dict \u001b[38;5;241m=\u001b[39m MR\u001b[38;5;241m.\u001b[39mget_variables(variable_names)\n",
      "File \u001b[1;32mc:\\Users\\miksc\\anaconda3\\envs\\microstim\\lib\\contextlib.py:135\u001b[0m, in \u001b[0;36m_GeneratorContextManager.__enter__\u001b[1;34m(self)\u001b[0m\n\u001b[0;32m    133\u001b[0m \u001b[38;5;28;01mdel\u001b[39;00m \u001b[38;5;28mself\u001b[39m\u001b[38;5;241m.\u001b[39margs, \u001b[38;5;28mself\u001b[39m\u001b[38;5;241m.\u001b[39mkwds, \u001b[38;5;28mself\u001b[39m\u001b[38;5;241m.\u001b[39mfunc\n\u001b[0;32m    134\u001b[0m \u001b[38;5;28;01mtry\u001b[39;00m:\n\u001b[1;32m--> 135\u001b[0m     \u001b[38;5;28;01mreturn\u001b[39;00m \u001b[38;5;28;43mnext\u001b[39;49m\u001b[43m(\u001b[49m\u001b[38;5;28;43mself\u001b[39;49m\u001b[38;5;241;43m.\u001b[39;49m\u001b[43mgen\u001b[49m\u001b[43m)\u001b[49m\n\u001b[0;32m    136\u001b[0m \u001b[38;5;28;01mexcept\u001b[39;00m \u001b[38;5;167;01mStopIteration\u001b[39;00m:\n\u001b[0;32m    137\u001b[0m     \u001b[38;5;28;01mraise\u001b[39;00m \u001b[38;5;167;01mRuntimeError\u001b[39;00m(\u001b[38;5;124m\"\u001b[39m\u001b[38;5;124mgenerator didn\u001b[39m\u001b[38;5;124m'\u001b[39m\u001b[38;5;124mt yield\u001b[39m\u001b[38;5;124m\"\u001b[39m) \u001b[38;5;28;01mfrom\u001b[39;00m \u001b[38;5;28mNone\u001b[39m\n",
      "File \u001b[1;32mc:\\Users\\miksc\\anaconda3\\envs\\microstim\\lib\\site-packages\\scipy\\io\\matlab\\mio.py:17\u001b[0m, in \u001b[0;36m_open_file_context\u001b[1;34m(file_like, appendmat, mode)\u001b[0m\n\u001b[0;32m     15\u001b[0m \u001b[38;5;129m@contextmanager\u001b[39m\n\u001b[0;32m     16\u001b[0m \u001b[38;5;28;01mdef\u001b[39;00m \u001b[38;5;21m_open_file_context\u001b[39m(file_like, appendmat, mode\u001b[38;5;241m=\u001b[39m\u001b[38;5;124m'\u001b[39m\u001b[38;5;124mrb\u001b[39m\u001b[38;5;124m'\u001b[39m):\n\u001b[1;32m---> 17\u001b[0m     f, opened \u001b[38;5;241m=\u001b[39m \u001b[43m_open_file\u001b[49m\u001b[43m(\u001b[49m\u001b[43mfile_like\u001b[49m\u001b[43m,\u001b[49m\u001b[43m \u001b[49m\u001b[43mappendmat\u001b[49m\u001b[43m,\u001b[49m\u001b[43m \u001b[49m\u001b[43mmode\u001b[49m\u001b[43m)\u001b[49m\n\u001b[0;32m     18\u001b[0m     \u001b[38;5;28;01mtry\u001b[39;00m:\n\u001b[0;32m     19\u001b[0m         \u001b[38;5;28;01myield\u001b[39;00m f\n",
      "File \u001b[1;32mc:\\Users\\miksc\\anaconda3\\envs\\microstim\\lib\\site-packages\\scipy\\io\\matlab\\mio.py:45\u001b[0m, in \u001b[0;36m_open_file\u001b[1;34m(file_like, appendmat, mode)\u001b[0m\n\u001b[0;32m     43\u001b[0m     \u001b[38;5;28;01mif\u001b[39;00m appendmat \u001b[38;5;129;01mand\u001b[39;00m \u001b[38;5;129;01mnot\u001b[39;00m file_like\u001b[38;5;241m.\u001b[39mendswith(\u001b[38;5;124m'\u001b[39m\u001b[38;5;124m.mat\u001b[39m\u001b[38;5;124m'\u001b[39m):\n\u001b[0;32m     44\u001b[0m         file_like \u001b[38;5;241m+\u001b[39m\u001b[38;5;241m=\u001b[39m \u001b[38;5;124m'\u001b[39m\u001b[38;5;124m.mat\u001b[39m\u001b[38;5;124m'\u001b[39m\n\u001b[1;32m---> 45\u001b[0m     \u001b[38;5;28;01mreturn\u001b[39;00m \u001b[38;5;28;43mopen\u001b[39;49m\u001b[43m(\u001b[49m\u001b[43mfile_like\u001b[49m\u001b[43m,\u001b[49m\u001b[43m \u001b[49m\u001b[43mmode\u001b[49m\u001b[43m)\u001b[49m, \u001b[38;5;28;01mTrue\u001b[39;00m\n\u001b[0;32m     46\u001b[0m \u001b[38;5;28;01melse\u001b[39;00m:\n\u001b[0;32m     47\u001b[0m     \u001b[38;5;28;01mraise\u001b[39;00m \u001b[38;5;167;01mIOError\u001b[39;00m(\n\u001b[0;32m     48\u001b[0m         \u001b[38;5;124m'\u001b[39m\u001b[38;5;124mReader needs file name or open file-like object\u001b[39m\u001b[38;5;124m'\u001b[39m\n\u001b[0;32m     49\u001b[0m     ) \u001b[38;5;28;01mfrom\u001b[39;00m \u001b[38;5;21;01me\u001b[39;00m\n",
      "\u001b[1;31mFileNotFoundError\u001b[0m: [Errno 2] No such file or directory: 'C:/Users/miksc/OneDrive/coding_projects/Microstimulation/data/ID0raw.mat'"
     ]
    }
   ],
   "source": [
    "path_ext = '/microstim/Session Data/'\n",
    "# Load the datafiles into Python using Mouse_Data\n",
    "mouse_list = []\n",
    "for file in datafiles:\n",
    "    path_to_data = path+file\n",
    "    mouse = Mouse_Data(path_to_data)\n",
    "    mouse_list.append(mouse)\n",
    "print(mouse_list)"
   ]
  },
  {
   "cell_type": "markdown",
   "id": "cfe97deb",
   "metadata": {},
   "source": []
  }
 ],
 "metadata": {
  "kernelspec": {
   "display_name": "microstim",
   "language": "python",
   "name": "python3"
  },
  "language_info": {
   "codemirror_mode": {
    "name": "ipython",
    "version": 3
   },
   "file_extension": ".py",
   "mimetype": "text/x-python",
   "name": "python",
   "nbconvert_exporter": "python",
   "pygments_lexer": "ipython3",
<<<<<<< HEAD
   "version": "3.10.4"
=======
   "version": "3.9.12"
  },
  "vscode": {
   "interpreter": {
    "hash": "cc30709ca1a9d85b2db4f37b1575b369caaf815f7ee49514a96347bd76c088a3"
   }
>>>>>>> faa83835691d45207735a9d2acd43de380756cef
  }
 },
 "nbformat": 4,
 "nbformat_minor": 5
}
