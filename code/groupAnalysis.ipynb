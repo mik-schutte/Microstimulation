{
 "cells": [
  {
   "cell_type": "markdown",
   "metadata": {},
   "source": [
    "# Group analysis"
   ]
  },
  {
   "cell_type": "code",
   "execution_count": null,
   "metadata": {},
   "outputs": [],
   "source": [
    "# Imports"
   ]
  },
  {
   "cell_type": "code",
   "execution_count": 1,
   "metadata": {},
   "outputs": [],
   "source": [
    "# Place animals into groups"
   ]
  },
  {
   "cell_type": "code",
   "execution_count": null,
   "metadata": {},
   "outputs": [],
   "source": [
    "def get_dprime_subplot(ax, mouse_data, color='black', label=''):\n",
    "    dpall = []\n",
    "    for mouse in mouse_data:\n",
    "        dplist = calc_d_prime(mouse, binsize=60)\n",
    "        dpall.append(dplist)\n",
    "    \n",
    "    # Extend lists and compute the mean\n",
    "    dpall = extend_lists(dpall)\n",
    "    d_mean = np.mean(dpall, axis=0)\n",
    "    \n",
    "    # Plot the mean d-prime values on the provided subplot (ax)\n",
    "    ax.plot(d_mean, color=color, label=label)\n",
    "\n",
    "    # Calculate standard error of the mean (SEM)\n",
    "    d_std = np.std(dpall, axis=0)   \n",
    "    d_sem = d_std / np.sqrt(len(mouse_data))  # Changed from ctrl_data to mouse_data\n",
    "    y_min = np.subtract(d_mean, d_sem)\n",
    "    y_max = np.add(d_mean, d_sem)\n",
    "\n",
    "    # Create x-axis values\n",
    "    x = np.arange(0, len(d_mean), 1)\n",
    "    \n",
    "    # Add shaded SEM region to the plot\n",
    "    ax.fill_between(x, y_min, y_max, alpha=0.5, color=color)\n",
    "\n",
    "    # Add labels and title if necessary\n",
    "    ax.set_xlabel('Trial #')\n",
    "    ax.set_ylabel('Learning score')# \\n (d-prime)')\n",
    "    ax.set_xlim(0,600)\n",
    "    ax.set_ylim(0,4)\n",
    "    ax.set_xticks([0,150,300,450,600])\n",
    "    \n",
    "    ax.spines['top'].set_visible(False)\n",
    "    ax.spines['right'].set_visible(False)\n",
    "\n",
    "    return ax  # Return the axes object for further modifications if needed\n",
    "\n",
    "# Example usage to create a figure with subplots\n",
    "fig, axs = plt.subplots(1,1, figsize=(8, 4))  # Create a figure and a single subplot\n",
    "# [get_dprime_subplot(ax, ctrl_data, color='black') for ax in axs] # Pass the subplot (ax) and the data\n",
    "get_dprime_subplot(axs, ctrl_data, color='black', label='Saline') \n",
    "# get_dprime_subplot(axs, vps10_data, color='red', label='VPS34 [10mM]') \n",
    "get_dprime_subplot(axs, vps_data, color='green', label='VPS34 [10mM & 100mM]') \n",
    "\n",
    "# get_dprime_subplot(axs, rapa_data, color='red', label='Rapamycin')\n",
    "# get_dprime_subplot(axs, vps_data, color='blueviolet', label='VPS34 IN') \n",
    "plt.legend(loc='upper left')\n",
    "\n",
    "\n",
    "plt.tight_layout()\n",
    "plt.show()\n",
    "\n",
    "# ALSO:\n",
    "plot_d_prime_comparison(ctrl_data, rapa_data, aniso_data, vps_data, legend_names=['Control','Rapamycin','Anisomycin','VPS34'], colors=['black', 'red', 'blue', 'green'])"
   ]
  },
  {
   "cell_type": "code",
   "execution_count": null,
   "metadata": {},
   "outputs": [],
   "source": [
    "# ctrl_data = [Mouse_Data(root + 'saline/' + ID + path_ext) for ID in ctrl_IDs]\n",
    "# vps10_IDs = os.listdir(root + 'VPS34/10mM')\n",
    "# vps10_data = [Mouse_Data(root + 'VPS34/10mM/' + ID + path_ext) for ID in vps10_IDs]\n",
    "\n",
    "# vps100_IDs = os.listdir(root + 'VPS34/100mM')\n",
    "# vps100_data = [Mouse_Data(root + 'VPS34/100mM/' + ID + path_ext) for ID in vps100_IDs]\n",
    "\n",
    "# vps_IDs = ['SNA-130487', 'SNA-132340', 'SNA-138894', 'SNA-138896']\n",
    "# vps_data = [Mouse_Data(root + 'VPS34/' + ID + path_ext) for ID in vps_IDs]"
   ]
  }
 ],
 "metadata": {
  "kernelspec": {
   "display_name": "microstim",
   "language": "python",
   "name": "python3"
  },
  "language_info": {
   "codemirror_mode": {
    "name": "ipython",
    "version": 3
   },
   "file_extension": ".py",
   "mimetype": "text/x-python",
   "name": "python",
   "nbconvert_exporter": "python",
   "pygments_lexer": "ipython3",
   "version": "3.10.4"
  }
 },
 "nbformat": 4,
 "nbformat_minor": 2
}
