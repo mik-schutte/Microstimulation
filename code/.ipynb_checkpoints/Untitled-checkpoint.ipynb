{
 "cells": [
  {
   "cell_type": "markdown",
   "id": "436f8570",
   "metadata": {},
   "source": [
    "# Analyzing microstimulation data  <br />\n",
    "\n",
    "## Introduction\n",
    "This notebook file can be used as a guideline for analyzing data concerning the MTL-dependent microstimulation detection task as described in Doron et al. (2020). It is meant to show students or newly interested the step-by-step process from raw data to beautiful graphs. Within this, script the Mouse_Data dataclass and functions from the helpers.py will be explained and used for data-analysis. The analysis will be performed on the data files that are contained within the sibling-folder: 'data'.  "
   ]
  },
  {
   "cell_type": "code",
   "execution_count": 1,
   "id": "a4773d49",
   "metadata": {},
   "outputs": [],
   "source": [
    "from Mouse_Data import Mouse_Data"
   ]
  },
  {
   "cell_type": "code",
   "execution_count": null,
   "id": "4567c032",
   "metadata": {},
   "outputs": [],
   "source": []
  }
 ],
 "metadata": {
  "kernelspec": {
   "display_name": "Python 3 (ipykernel)",
   "language": "python",
   "name": "python3"
  },
  "language_info": {
   "codemirror_mode": {
    "name": "ipython",
    "version": 3
   },
   "file_extension": ".py",
   "mimetype": "text/x-python",
   "name": "python",
   "nbconvert_exporter": "python",
   "pygments_lexer": "ipython3",
   "version": "3.10.4"
  }
 },
 "nbformat": 4,
 "nbformat_minor": 5
}
